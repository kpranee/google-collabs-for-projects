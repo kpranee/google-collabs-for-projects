{
  "nbformat": 4,
  "nbformat_minor": 0,
  "metadata": {
    "colab": {
      "provenance": [],
      "authorship_tag": "ABX9TyNItap89zZ2oXPPzjGL/s/Z",
      "include_colab_link": true
    },
    "kernelspec": {
      "name": "python3",
      "display_name": "Python 3"
    },
    "language_info": {
      "name": "python"
    }
  },
  "cells": [
    {
      "cell_type": "markdown",
      "metadata": {
        "id": "view-in-github",
        "colab_type": "text"
      },
      "source": [
        "<a href=\"https://colab.research.google.com/github/kpranee/google-collabs-for-projects/blob/main/Intro_to_lists.ipynb\" target=\"_parent\"><img src=\"https://colab.research.google.com/assets/colab-badge.svg\" alt=\"Open In Colab\"/></a>"
      ]
    },
    {
      "cell_type": "code",
      "execution_count": 2,
      "metadata": {
        "id": "WL7Yw-_ETGOh"
      },
      "outputs": [],
      "source": [
        "#list1=[1,2,3]\n",
        "#print(list1)"
      ]
    },
    {
      "cell_type": "code",
      "source": [
        "list1=[i for i in range(10)]#1d list\n",
        "print(list1)\n"
      ],
      "metadata": {
        "colab": {
          "base_uri": "https://localhost:8080/"
        },
        "id": "J6GWNy-WU5xv",
        "outputId": "336e4f75-98e8-41d6-c123-50e245deed9c"
      },
      "execution_count": 3,
      "outputs": [
        {
          "output_type": "stream",
          "name": "stdout",
          "text": [
            "[0, 1, 2, 3, 4, 5, 6, 7, 8, 9]\n"
          ]
        }
      ]
    },
    {
      "cell_type": "code",
      "source": [
        "list2=[[1,2,3] for i in range(10)]#2d list\n",
        "print(list2)\n"
      ],
      "metadata": {
        "colab": {
          "base_uri": "https://localhost:8080/"
        },
        "id": "LQnaf6CQVHZW",
        "outputId": "ec6f4855-c9cc-43ec-9888-5b23eaa7ecbe"
      },
      "execution_count": 6,
      "outputs": [
        {
          "output_type": "stream",
          "name": "stdout",
          "text": [
            "[[1, 2, 3], [1, 2, 3], [1, 2, 3], [1, 2, 3], [1, 2, 3], [1, 2, 3], [1, 2, 3], [1, 2, 3], [1, 2, 3], [1, 2, 3]]\n"
          ]
        }
      ]
    },
    {
      "cell_type": "code",
      "source": [
        "R=int(input(\"Enter the number of rows\"))\n",
        "C=int(input(\"Enter the number of columns\"))\n",
        "list1=[int(x) for x in input().split()]\n",
        "print(list1)\n",
        "a=[]\n",
        "for i in range(R):\n",
        "  a.append([])\n",
        "  for j in range(C):\n",
        "    a[i].append(list1[C*i+j])\n",
        "print(a)"
      ],
      "metadata": {
        "colab": {
          "base_uri": "https://localhost:8080/"
        },
        "id": "osB9k7hAWAsa",
        "outputId": "ddb5c0dd-bff5-4d2f-b0d6-57987c271d27"
      },
      "execution_count": 10,
      "outputs": [
        {
          "output_type": "stream",
          "name": "stdout",
          "text": [
            "Enter the number of rows2\n",
            "Enter the number of columns2\n",
            "1 2 3 4\n",
            "[1, 2, 3, 4]\n",
            "[[1, 2], [3, 4]]\n"
          ]
        }
      ]
    },
    {
      "cell_type": "code",
      "source": [
        "import math\n",
        "math.gcd(34,56)"
      ],
      "metadata": {
        "colab": {
          "base_uri": "https://localhost:8080/"
        },
        "id": "mJXLzpmHYFG4",
        "outputId": "64752f4c-df8a-44dc-84cc-198cbacb59c0"
      },
      "execution_count": 11,
      "outputs": [
        {
          "output_type": "execute_result",
          "data": {
            "text/plain": [
              "2"
            ]
          },
          "metadata": {},
          "execution_count": 11
        }
      ]
    }
  ]
}